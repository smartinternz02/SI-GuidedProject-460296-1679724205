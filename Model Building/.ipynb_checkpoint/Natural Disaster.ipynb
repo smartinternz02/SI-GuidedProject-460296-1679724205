{
 "cells": [
  {
   "cell_type": "code",
   "execution_count": 1,
   "id": "95405422",
   "metadata": {},
   "outputs": [],
   "source": [
    "from keras.preprocessing.image import ImageDataGenerator\n"
   ]
  },
  {
   "cell_type": "code",
   "execution_count": 2,
   "id": "c438b36f",
   "metadata": {},
   "outputs": [],
   "source": [
    "train_datagen = ImageDataGenerator(rescale = 1./255, shear_range = 0.2, zoom_range = 0.2, horizontal_flip = True)\n",
    "test_datagen=ImageDataGenerator(rescale=1./255)"
   ]
  },
  {
   "cell_type": "code",
   "execution_count": 4,
   "id": "7ffcb146",
   "metadata": {},
   "outputs": [
    {
     "name": "stdout",
     "output_type": "stream",
     "text": [
      "Found 742 images belonging to 4 classes.\n",
      "Found 198 images belonging to 4 classes.\n"
     ]
    }
   ],
   "source": [
    "x_train = train_datagen.flow_from_directory('C:/dataset/train_set', target_size = (64,64), batch_size = 5, color_mode = 'rgb', class_mode = 'categorical')\n",
    "x_test = test_datagen.flow_from_directory('C:/dataset/test_set', target_size = (64,64), batch_size = 5, color_mode = 'rgb', class_mode = 'categorical')"
   ]
  },
  {
   "cell_type": "code",
   "execution_count": 9,
   "id": "af3b90da",
   "metadata": {},
   "outputs": [],
   "source": [
    "import numpy as np\n",
    "import tensorflow\n",
    "from tensorflow.keras.models import Sequential\n",
    "from tensorflow.keras.layers import Dense,Conv2D,MaxPooling2D,Flatten"
   ]
  },
  {
   "cell_type": "code",
   "execution_count": 10,
   "id": "1c4f4bbe",
   "metadata": {},
   "outputs": [],
   "source": [
    "# initialising the model and adding CNN layers\n",
    "\n",
    "model = Sequential()\n",
    "\n",
    "# First convolution layer and pooling\n",
    "model.add(Conv2D(32,(3,3),input_shape=(64,64,3),activation='relu'))\n",
    "model.add(MaxPooling2D(pool_size=(2,2)))\n",
    "\n",
    "#Second convolution layer and pooling\n",
    "model.add(Conv2D(32,(3,3),activation='relu'))\n",
    "model.add(MaxPooling2D(pool_size=(2,2)))\n",
    "\n",
    "#Flattening the layers\n",
    "model.add(Flatten())\n",
    "\n",
    "#Adding Dense Layers\n",
    "model.add(Dense(units=128,activation='relu'))\n",
    "model.add(Dense(units=4,activation='softmax'))\n",
    "     \n"
   ]
  },
  {
   "cell_type": "code",
   "execution_count": 11,
   "id": "03a891c5",
   "metadata": {},
   "outputs": [
    {
     "name": "stdout",
     "output_type": "stream",
     "text": [
      "Model: \"sequential_2\"\n",
      "_________________________________________________________________\n",
      " Layer (type)                Output Shape              Param #   \n",
      "=================================================================\n",
      " conv2d (Conv2D)             (None, 62, 62, 32)        896       \n",
      "                                                                 \n",
      " max_pooling2d (MaxPooling2D  (None, 31, 31, 32)       0         \n",
      " )                                                               \n",
      "                                                                 \n",
      " conv2d_1 (Conv2D)           (None, 29, 29, 32)        9248      \n",
      "                                                                 \n",
      " max_pooling2d_1 (MaxPooling  (None, 14, 14, 32)       0         \n",
      " 2D)                                                             \n",
      "                                                                 \n",
      " flatten (Flatten)           (None, 6272)              0         \n",
      "                                                                 \n",
      " dense (Dense)               (None, 128)               802944    \n",
      "                                                                 \n",
      " dense_1 (Dense)             (None, 4)                 516       \n",
      "                                                                 \n",
      "=================================================================\n",
      "Total params: 813,604\n",
      "Trainable params: 813,604\n",
      "Non-trainable params: 0\n",
      "_________________________________________________________________\n"
     ]
    }
   ],
   "source": [
    "model.summary()"
   ]
  },
  {
   "cell_type": "code",
   "execution_count": 12,
   "id": "9dd18afe",
   "metadata": {},
   "outputs": [],
   "source": [
    "model.compile(optimizer='adam', loss='categorical_crossentropy', metrics=['accuracy'])"
   ]
  },
  {
   "cell_type": "code",
   "execution_count": 13,
   "id": "9359d734",
   "metadata": {},
   "outputs": [
    {
     "name": "stderr",
     "output_type": "stream",
     "text": [
      "C:\\Users\\Prakash\\AppData\\Local\\Temp\\ipykernel_20072\\855485759.py:1: UserWarning: `Model.fit_generator` is deprecated and will be removed in a future version. Please use `Model.fit`, which supports generators.\n",
      "  model.fit_generator(generator=x_train,steps_per_epoch=len(x_train),epochs=20,validation_data=x_test,validation_steps=len(x_test))\n"
     ]
    },
    {
     "name": "stdout",
     "output_type": "stream",
     "text": [
      "Epoch 1/20\n",
      "149/149 [==============================] - 60s 390ms/step - loss: 1.2174 - accuracy: 0.4191 - val_loss: 1.2613 - val_accuracy: 0.4394\n",
      "Epoch 2/20\n",
      "149/149 [==============================] - 44s 297ms/step - loss: 0.9411 - accuracy: 0.6119 - val_loss: 0.8517 - val_accuracy: 0.6616\n",
      "Epoch 3/20\n",
      "149/149 [==============================] - 44s 294ms/step - loss: 0.7641 - accuracy: 0.7022 - val_loss: 0.8717 - val_accuracy: 0.7020\n",
      "Epoch 4/20\n",
      "149/149 [==============================] - 45s 306ms/step - loss: 0.6793 - accuracy: 0.7237 - val_loss: 0.7510 - val_accuracy: 0.7172\n",
      "Epoch 5/20\n",
      "149/149 [==============================] - 46s 309ms/step - loss: 0.5845 - accuracy: 0.7736 - val_loss: 1.2131 - val_accuracy: 0.6061\n",
      "Epoch 6/20\n",
      "149/149 [==============================] - 46s 311ms/step - loss: 0.5425 - accuracy: 0.8019 - val_loss: 0.6553 - val_accuracy: 0.7475\n",
      "Epoch 7/20\n",
      "149/149 [==============================] - 46s 312ms/step - loss: 0.4619 - accuracy: 0.8396 - val_loss: 0.6079 - val_accuracy: 0.7727\n",
      "Epoch 8/20\n",
      "149/149 [==============================] - 1573s 11s/step - loss: 0.4504 - accuracy: 0.8477 - val_loss: 0.6853 - val_accuracy: 0.7828\n",
      "Epoch 9/20\n",
      "149/149 [==============================] - 46s 311ms/step - loss: 0.4432 - accuracy: 0.8302 - val_loss: 1.0265 - val_accuracy: 0.6869\n",
      "Epoch 10/20\n",
      "149/149 [==============================] - 47s 312ms/step - loss: 0.4110 - accuracy: 0.8491 - val_loss: 0.7651 - val_accuracy: 0.7727\n",
      "Epoch 11/20\n",
      "149/149 [==============================] - 46s 312ms/step - loss: 0.3380 - accuracy: 0.8801 - val_loss: 0.7515 - val_accuracy: 0.7929\n",
      "Epoch 12/20\n",
      "149/149 [==============================] - 46s 308ms/step - loss: 0.3342 - accuracy: 0.8801 - val_loss: 0.7219 - val_accuracy: 0.8182\n",
      "Epoch 13/20\n",
      "149/149 [==============================] - 46s 310ms/step - loss: 0.2918 - accuracy: 0.8962 - val_loss: 0.9085 - val_accuracy: 0.7576\n",
      "Epoch 14/20\n",
      "149/149 [==============================] - 46s 310ms/step - loss: 0.3093 - accuracy: 0.8976 - val_loss: 0.9823 - val_accuracy: 0.7475\n",
      "Epoch 15/20\n",
      "149/149 [==============================] - 46s 307ms/step - loss: 0.2420 - accuracy: 0.9016 - val_loss: 1.1037 - val_accuracy: 0.6667\n",
      "Epoch 16/20\n",
      "149/149 [==============================] - 46s 311ms/step - loss: 0.2664 - accuracy: 0.8989 - val_loss: 0.7518 - val_accuracy: 0.7626\n",
      "Epoch 17/20\n",
      "149/149 [==============================] - 46s 309ms/step - loss: 0.2626 - accuracy: 0.9151 - val_loss: 1.7669 - val_accuracy: 0.6465\n",
      "Epoch 18/20\n",
      "149/149 [==============================] - 46s 309ms/step - loss: 0.2607 - accuracy: 0.9003 - val_loss: 0.9256 - val_accuracy: 0.7828\n",
      "Epoch 19/20\n",
      "149/149 [==============================] - 46s 307ms/step - loss: 0.1781 - accuracy: 0.9447 - val_loss: 0.7766 - val_accuracy: 0.7778\n",
      "Epoch 20/20\n",
      "149/149 [==============================] - 46s 305ms/step - loss: 0.1739 - accuracy: 0.9367 - val_loss: 0.8579 - val_accuracy: 0.8030\n"
     ]
    },
    {
     "data": {
      "text/plain": [
       "<keras.callbacks.History at 0x235305571f0>"
      ]
     },
     "execution_count": 13,
     "metadata": {},
     "output_type": "execute_result"
    }
   ],
   "source": [
    "model.fit_generator(generator=x_train,steps_per_epoch=len(x_train),epochs=20,validation_data=x_test,validation_steps=len(x_test))"
   ]
  },
  {
   "cell_type": "code",
   "execution_count": 14,
   "id": "466070e2",
   "metadata": {},
   "outputs": [],
   "source": [
    "model.save('disaster.h5')\n",
    "model_json = model.to_json()\n",
    "with open(\"model-bw.json\", \"w\") as json_file:\n",
    "  json_file.write(model_json)"
   ]
  },
  {
   "cell_type": "code",
   "execution_count": 15,
   "id": "457e968d",
   "metadata": {},
   "outputs": [],
   "source": [
    "from tensorflow.keras.models import load_model\n",
    "from tensorflow.keras.preprocessing import image\n",
    "model = load_model('disaster.h5')"
   ]
  },
  {
   "cell_type": "code",
   "execution_count": 16,
   "id": "1ee98df9",
   "metadata": {},
   "outputs": [
    {
     "data": {
      "text/plain": [
       "{'Cyclone': 0, 'Earthquake': 1, 'Flood': 2, 'Wildfire': 3}"
      ]
     },
     "execution_count": 16,
     "metadata": {},
     "output_type": "execute_result"
    }
   ],
   "source": [
    "x_train.class_indices"
   ]
  },
  {
   "cell_type": "code",
   "execution_count": 18,
   "id": "932b4a95",
   "metadata": {},
   "outputs": [
    {
     "name": "stdout",
     "output_type": "stream",
     "text": [
      "1/1 [==============================] - 0s 174ms/step\n",
      "Earthquake\n"
     ]
    }
   ],
   "source": [
    "img = image.load_img('C:/dataset/test_set/Flood/1003.jpg',target_size=(64,64))\n",
    "x=image.img_to_array(img)\n",
    "x=np.expand_dims(x,axis=0)\n",
    "index=['Cyclone','Earthquake','Flood','Wildfire']\n",
    "y=np.argmax(model.predict(x),axis=1)\n",
    "print(index[int(y)])"
   ]
  },
  {
   "cell_type": "code",
   "execution_count": 19,
   "id": "20272227",
   "metadata": {},
   "outputs": [
    {
     "name": "stdout",
     "output_type": "stream",
     "text": [
      "1/1 [==============================] - 0s 35ms/step\n",
      "Wildfire\n"
     ]
    }
   ],
   "source": [
    "img = image.load_img('C:/dataset/test_set/Wildfire/1065.jpg',target_size=(64,64))\n",
    "x=image.img_to_array(img)\n",
    "x=np.expand_dims(x,axis=0)\n",
    "index=['Cyclone','Earthquake','Flood','Wildfire']\n",
    "y=np.argmax(model.predict(x),axis=1)\n",
    "print(index[int(y)])"
   ]
  },
  {
   "cell_type": "code",
   "execution_count": null,
   "id": "ddfac76f",
   "metadata": {},
   "outputs": [],
   "source": []
  }
 ],
 "metadata": {
  "kernelspec": {
   "display_name": "Python 3 (ipykernel)",
   "language": "python",
   "name": "python3"
  },
  "language_info": {
   "codemirror_mode": {
    "name": "ipython",
    "version": 3
   },
   "file_extension": ".py",
   "mimetype": "text/x-python",
   "name": "python",
   "nbconvert_exporter": "python",
   "pygments_lexer": "ipython3",
   "version": "3.9.12"
  }
 },
 "nbformat": 4,
 "nbformat_minor": 5
}
